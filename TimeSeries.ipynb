{
 "cells": [
  {
   "cell_type": "code",
   "execution_count": 2,
   "metadata": {},
   "outputs": [],
   "source": [
    "import pandas as pd\n",
    "import numpy"
   ]
  },
  {
   "cell_type": "code",
   "execution_count": 3,
   "metadata": {},
   "outputs": [],
   "source": [
    "df_data = pd.read_csv(\"TS_DATA.csv\")"
   ]
  },
  {
   "cell_type": "code",
   "execution_count": 4,
   "metadata": {},
   "outputs": [
    {
     "data": {
      "text/html": [
       "<div>\n",
       "<style scoped>\n",
       "    .dataframe tbody tr th:only-of-type {\n",
       "        vertical-align: middle;\n",
       "    }\n",
       "\n",
       "    .dataframe tbody tr th {\n",
       "        vertical-align: top;\n",
       "    }\n",
       "\n",
       "    .dataframe thead th {\n",
       "        text-align: right;\n",
       "    }\n",
       "</style>\n",
       "<table border=\"1\" class=\"dataframe\">\n",
       "  <thead>\n",
       "    <tr style=\"text-align: right;\">\n",
       "      <th></th>\n",
       "      <th>ts</th>\n",
       "      <th>user_id</th>\n",
       "      <th>country_id</th>\n",
       "      <th>site_id</th>\n",
       "    </tr>\n",
       "  </thead>\n",
       "  <tbody>\n",
       "    <tr>\n",
       "      <th>0</th>\n",
       "      <td>2019-02-01 00:01:24</td>\n",
       "      <td>LC36FC</td>\n",
       "      <td>TL6</td>\n",
       "      <td>N0OTG</td>\n",
       "    </tr>\n",
       "    <tr>\n",
       "      <th>1</th>\n",
       "      <td>2019-02-01 00:10:19</td>\n",
       "      <td>LC39B6</td>\n",
       "      <td>TL6</td>\n",
       "      <td>N0OTG</td>\n",
       "    </tr>\n",
       "    <tr>\n",
       "      <th>2</th>\n",
       "      <td>2019-02-01 00:21:50</td>\n",
       "      <td>LC3500</td>\n",
       "      <td>TL6</td>\n",
       "      <td>N0OTG</td>\n",
       "    </tr>\n",
       "    <tr>\n",
       "      <th>3</th>\n",
       "      <td>2019-02-01 00:22:50</td>\n",
       "      <td>LC374F</td>\n",
       "      <td>TL6</td>\n",
       "      <td>N0OTG</td>\n",
       "    </tr>\n",
       "    <tr>\n",
       "      <th>4</th>\n",
       "      <td>2019-02-01 00:23:44</td>\n",
       "      <td>LCC1C3</td>\n",
       "      <td>TL6</td>\n",
       "      <td>QGO3G</td>\n",
       "    </tr>\n",
       "  </tbody>\n",
       "</table>\n",
       "</div>"
      ],
      "text/plain": [
       "                    ts user_id country_id site_id\n",
       "0  2019-02-01 00:01:24  LC36FC        TL6   N0OTG\n",
       "1  2019-02-01 00:10:19  LC39B6        TL6   N0OTG\n",
       "2  2019-02-01 00:21:50  LC3500        TL6   N0OTG\n",
       "3  2019-02-01 00:22:50  LC374F        TL6   N0OTG\n",
       "4  2019-02-01 00:23:44  LCC1C3        TL6   QGO3G"
      ]
     },
     "execution_count": 4,
     "metadata": {},
     "output_type": "execute_result"
    }
   ],
   "source": [
    "df_data.head()"
   ]
  },
  {
   "cell_type": "code",
   "execution_count": 5,
   "metadata": {},
   "outputs": [
    {
     "name": "stdout",
     "output_type": "stream",
     "text": [
      "<class 'pandas.core.frame.DataFrame'>\n",
      "RangeIndex: 3553 entries, 0 to 3552\n",
      "Data columns (total 4 columns):\n",
      "ts            3553 non-null object\n",
      "user_id       3553 non-null object\n",
      "country_id    3553 non-null object\n",
      "site_id       3553 non-null object\n",
      "dtypes: object(4)\n",
      "memory usage: 111.1+ KB\n"
     ]
    }
   ],
   "source": [
    "df_data.info()"
   ]
  },
  {
   "cell_type": "code",
   "execution_count": 6,
   "metadata": {},
   "outputs": [],
   "source": [
    "df_bdv = df_data[df_data['country_id'].str.contains('BDV')]"
   ]
  },
  {
   "cell_type": "code",
   "execution_count": 7,
   "metadata": {},
   "outputs": [
    {
     "data": {
      "text/plain": [
       "site_id\n",
       "5NPAU    544\n",
       "N0OTG     90\n",
       "3POLC      2\n",
       "Name: user_id, dtype: int64"
      ]
     },
     "execution_count": 7,
     "metadata": {},
     "output_type": "execute_result"
    }
   ],
   "source": [
    "df_bdv.groupby('site_id')['user_id'].nunique().sort_values(ascending=False)"
   ]
  },
  {
   "cell_type": "code",
   "execution_count": 8,
   "metadata": {},
   "outputs": [
    {
     "data": {
      "text/plain": [
       "user_id  site_id\n",
       "LC3A59   N0OTG      26\n",
       "LC06C3   N0OTG      25\n",
       "LC3C9D   N0OTG      17\n",
       "LC3C7E   3POLC      15\n",
       "LC38EB   N0OTG       9\n",
       "LCC3A5   5NPAU       8\n",
       "LC3FFF   5NPAU       7\n",
       "LC3491   5NPAU       6\n",
       "LC376D   N0OTG       6\n",
       "LC36FC   N0OTG       6\n",
       "LC32F5   N0OTG       6\n",
       "LCC3E0   N0OTG       5\n",
       "LC3AC8   N0OTG       5\n",
       "LC3FEE   3POLC       5\n",
       "LC343D   5NPAU       4\n",
       "LC30B3   N0OTG       4\n",
       "LC3344   N0OTG       4\n",
       "LC3D52   N0OTG       4\n",
       "LC321B   5NPAU       4\n",
       "LC3DB6   5NPAU       4\n",
       "LC34BD   N0OTG       4\n",
       "LC3999   N0OTG       4\n",
       "LC3193   3POLC       4\n",
       "LC3874   5NPAU       4\n",
       "LC3DEA   N0OTG       4\n",
       "LC370C   5NPAU       4\n",
       "LC3481   N0OTG       3\n",
       "LC31E2   N0OTG       3\n",
       "LC38B3   N0OTG       3\n",
       "LC3FD1   N0OTG       3\n",
       "                    ..\n",
       "LC3B95   GVOFK       1\n",
       "LC3B90   5NPAU       1\n",
       "LC3B8F   QGO3G       1\n",
       "LC3B6C   5NPAU       1\n",
       "LC3B66   5NPAU       1\n",
       "LC3B5C   QGO3G       1\n",
       "LC3B5A   N0OTG       1\n",
       "LC3B49   N0OTG       1\n",
       "LC3BF5   5NPAU       1\n",
       "LC3C10   5NPAU       1\n",
       "LC3C9B   QGO3G       1\n",
       "LC3C1C   N0OTG       1\n",
       "LC3C9B   5NPAU       1\n",
       "LC3C99   N0OTG       1\n",
       "LC3C8E   5NPAU       1\n",
       "LC3C8A   N0OTG       1\n",
       "LC3C79   QGO3G       1\n",
       "LC3C75   5NPAU       1\n",
       "LC3C6F   QGO3G       1\n",
       "LC3C6E   QGO3G       1\n",
       "LC3C5A   5NPAU       1\n",
       "LC3C56   N0OTG       1\n",
       "LC3C4F   QGO3G       1\n",
       "LC3C49   5NPAU       1\n",
       "LC3C48   5NPAU       1\n",
       "LC3C37   N0OTG       1\n",
       "LC3C2E   QGO3G       1\n",
       "LC3C29   5NPAU       1\n",
       "LC3C1F   5NPAU       1\n",
       "LC00C3   5NPAU       1\n",
       "Name: user_id, Length: 746, dtype: int64"
      ]
     },
     "execution_count": 8,
     "metadata": {},
     "output_type": "execute_result"
    }
   ],
   "source": [
    "mask = (df_data['ts']>='2019-02-03 00:00:00') & (df_data['ts']<='2019-02-04 23:59:59')\n",
    "df_time = df_data.loc[mask]\n",
    "df_time.groupby(['user_id','site_id'])['user_id'].agg('count').sort_values(ascending=False)"
   ]
  },
  {
   "cell_type": "code",
   "execution_count": 10,
   "metadata": {},
   "outputs": [
    {
     "data": {
      "text/plain": [
       "site_id\n",
       "5NPAU    992\n",
       "N0OTG    561\n",
       "QGO3G    289\n",
       "GVOFK     42\n",
       "3POLC     28\n",
       "RT9Z6      2\n",
       "JSUUP      1\n",
       "EUZ/Q      1\n",
       "Name: user_id, dtype: int64"
      ]
     },
     "execution_count": 10,
     "metadata": {},
     "output_type": "execute_result"
    }
   ],
   "source": [
    "df_data['date'] = pd.to_datetime(df_data['ts']) \n",
    "df_last_visit = df_data.loc[df_data.groupby('user_id').date.idxmax()]\n",
    "df_last_visit.groupby('site_id')['user_id'].agg('count').sort_values(ascending=False)\n"
   ]
  },
  {
   "cell_type": "code",
   "execution_count": 11,
   "metadata": {},
   "outputs": [],
   "source": [
    "df_data['date'] = pd.to_datetime(df_data['ts']) \n",
    "df_first_visit = df_data.loc[df_data.groupby('user_id').date.idxmin()]"
   ]
  },
  {
   "cell_type": "code",
   "execution_count": 69,
   "metadata": {},
   "outputs": [
    {
     "data": {
      "text/plain": [
       "1670"
      ]
     },
     "execution_count": 69,
     "metadata": {},
     "output_type": "execute_result"
    }
   ],
   "source": [
    "df_combine = pd.merge(df_last_visit,df_first_visit,on='user_id',how='outer')\n",
    "len(df_combine[df_combine['site_id_x']==df_combine['site_id_y']])"
   ]
  },
  {
   "cell_type": "code",
   "execution_count": null,
   "metadata": {},
   "outputs": [],
   "source": []
  }
 ],
 "metadata": {
  "kernelspec": {
   "display_name": "Python 3",
   "language": "python",
   "name": "python3"
  },
  "language_info": {
   "codemirror_mode": {
    "name": "ipython",
    "version": 3
   },
   "file_extension": ".py",
   "mimetype": "text/x-python",
   "name": "python",
   "nbconvert_exporter": "python",
   "pygments_lexer": "ipython3",
   "version": "3.6.4"
  }
 },
 "nbformat": 4,
 "nbformat_minor": 2
}
